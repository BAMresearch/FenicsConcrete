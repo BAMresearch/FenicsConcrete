{
 "cells": [
  {
   "cell_type": "markdown",
   "metadata": {},
   "source": [
    "# Implementation\n",
    "Author: Jørgen S. Dokken\n",
    "\n",
    "In this tutorial, you will learn how to:\n",
    "- Use a vector function space\n",
    "- Create a constant boundary condition on a vector space\n",
    "- Visualize cell wise constant functions\n",
    "- Compute Von Mises stresses\n",
    "\n",
    "## Test problem\n",
    "As a test example, we will model a clamped beam deformed under its own weigth in 3D. This can be modeled, by setting the right-hand side body force per unit volume to $f=(0,0,-\\rho g)$ with $\\rho$ the density of the beam and $g$ the acceleration of gravity. The beam is box-shaped with length $L$ and has a square cross section of width $W$. we set $u=u_D=(0,0,0)$ at the clamped end, x=0. The rest of the boundary is traction free, that is, we set $T=0$. We start by defining the physical variables used in the program."
   ]
  },
  {
   "cell_type": "code",
   "execution_count": 1,
   "metadata": {
    "tags": []
   },
   "outputs": [],
   "source": [
    "# Scaled variable\n",
    "import pyvista\n",
    "from dolfinx import mesh, fem, plot, io, default_scalar_type\n",
    "from dolfinx.fem.petsc import LinearProblem\n",
    "from mpi4py import MPI\n",
    "import ufl\n",
    "import numpy as np\n",
    "L = 1\n",
    "W = 0.2\n",
    "mu = 1\n",
    "rho = 1\n",
    "delta = W / L\n",
    "gamma = 0.4 * delta**2\n",
    "beta = 1.25\n",
    "lambda_ = beta\n",
    "g = gamma"
   ]
  },
  {
   "cell_type": "markdown",
   "metadata": {},
   "source": [
    "We then create the mesh, which will consist of hexahedral elements, along with the function space. We will use the convenience function `VectorFunctionSpace`. However, we also could have used `ufl`s functionality, creating a vector element `element = ufl.VectorElement(\"Lagrange\", mesh.ufl_cell(), 1)\n",
    "`, and intitializing the function space as `V = dolfinx.fem.FunctionSpace(mesh, element)`."
   ]
  },
  {
   "cell_type": "code",
   "execution_count": 2,
   "metadata": {
    "tags": []
   },
   "outputs": [],
   "source": [
    "domain = mesh.create_box(MPI.COMM_WORLD, [np.array([0, 0, 0]), np.array([L, W, W])],\n",
    "                         [20, 6, 6], cell_type=mesh.CellType.hexahedron)\n",
    "V = fem.functionspace(domain, (\"Lagrange\", 1, (3,)))"
   ]
  },
  {
   "cell_type": "markdown",
   "metadata": {},
   "source": [
    "## Boundary conditions\n",
    "As we would like to clamp the boundary at $x=0$, we do this by using a marker function, which locate the facets where $x$ is close to zero by machine prescision."
   ]
  },
  {
   "cell_type": "code",
   "execution_count": 3,
   "metadata": {},
   "outputs": [],
   "source": [
    "def clamped_boundary(x):\n",
    "    return np.isclose(x[0], 0)\n",
    "\n",
    "\n",
    "fdim = domain.topology.dim - 1\n",
    "boundary_facets = mesh.locate_entities_boundary(domain, fdim, clamped_boundary)\n",
    "\n",
    "u_D = np.array([0, 0, 0], dtype=default_scalar_type)\n",
    "bc = fem.dirichletbc(u_D, fem.locate_dofs_topological(V, fdim, boundary_facets), V)"
   ]
  },
  {
   "cell_type": "markdown",
   "metadata": {},
   "source": [
    "As we want the traction $T$ over the remaining boundary to be $0$, we create a `dolfinx.Constant`"
   ]
  },
  {
   "cell_type": "code",
   "execution_count": 4,
   "metadata": {},
   "outputs": [],
   "source": [
    "T = fem.Constant(domain, default_scalar_type((0, 0, 0)))"
   ]
  },
  {
   "cell_type": "markdown",
   "metadata": {},
   "source": [
    "We also want to specify the integration measure $\\mathrm{d}s$, which should be the integral over the boundary of our domain. We do this by using `ufl`, and its built in integration measures"
   ]
  },
  {
   "cell_type": "code",
   "execution_count": 5,
   "metadata": {},
   "outputs": [],
   "source": [
    "ds = ufl.Measure(\"ds\", domain=domain)"
   ]
  },
  {
   "cell_type": "markdown",
   "metadata": {},
   "source": [
    "## Variational formulation\n",
    "We are now ready to create our variational formulation in close to mathematical syntax, as for the previous problems."
   ]
  },
  {
   "cell_type": "code",
   "execution_count": 6,
   "metadata": {},
   "outputs": [],
   "source": [
    "def epsilon(u):\n",
    "    return ufl.sym(ufl.grad(u))  # Equivalent to 0.5*(ufl.nabla_grad(u) + ufl.nabla_grad(u).T)\n",
    "\n",
    "def sigma(u, beta, delta_theta):\n",
    "    elastic_stress = lambda_ * ufl.nabla_div(u) * ufl.Identity(len(u)) + 2 * mu * epsilon(u)\n",
    "    thermal_stress = ufl.Identity(len(u))*beta*delta_theta\n",
    "    return lambda_ * ufl.nabla_div(u) * ufl.Identity(len(u)) + 2 * mu * epsilon(u) + ufl.Identity(len(u))*beta*delta_theta\n",
    "\n",
    "#def sigma2(beta, delta_theta):\n",
    "#    return ufl.Identity(len(u))*beta*delta_theta\n",
    "\n",
    "#V_1D = fem.functionspace(domain, (\"Lagrange\", 1, (1,)))\n",
    "#delta_theta = fem.Function(V_1D) #self.V.mesh.geometry.dim\n",
    "#delta_theta.interpolate(lambda x: 2.0*x[0])\n",
    "delta_theta = fem.Constant(domain, 5.0)\n",
    "beta = 0.2\n",
    "u = ufl.TrialFunction(V)\n",
    "v = ufl.TestFunction(V)\n",
    "f = fem.Constant(domain, default_scalar_type((0, 0, -rho * g)))\n",
    "a = ufl.inner(sigma(u, beta, delta_theta), epsilon(v)) * ufl.dx\n",
    "L = ufl.dot(f, v) * ufl.dx + ufl.dot(T, v) * ds"
   ]
  },
  {
   "cell_type": "code",
   "execution_count": 8,
   "metadata": {},
   "outputs": [
    {
     "data": {
      "text/plain": [
       "ufl.form.Form"
      ]
     },
     "execution_count": 8,
     "metadata": {},
     "output_type": "execute_result"
    }
   ],
   "source": [
    "type(a)"
   ]
  },
  {
   "cell_type": "code",
   "execution_count": 7,
   "metadata": {},
   "outputs": [
    {
     "ename": "ArityMismatch",
     "evalue": "Adding expressions with non-matching form arguments () vs ('v_1',).",
     "output_type": "error",
     "traceback": [
      "\u001b[0;31m---------------------------------------------------------------------------\u001b[0m",
      "\u001b[0;31mArityMismatch\u001b[0m                             Traceback (most recent call last)",
      "\u001b[1;32m/home/dtyagi/FenicsConcrete/probabilistic_identification/linearelasticity_code.ipynb Cell 13\u001b[0m line \u001b[0;36m1\n\u001b[0;32m----> <a href='vscode-notebook-cell://wsl%2Bubuntu-22.04/home/dtyagi/FenicsConcrete/probabilistic_identification/linearelasticity_code.ipynb#X35sdnNjb2RlLXJlbW90ZQ%3D%3D?line=0'>1</a>\u001b[0m bilinear_form \u001b[39m=\u001b[39m fem\u001b[39m.\u001b[39mform(a)\n",
      "File \u001b[0;32m~/anaconda3/envs/fenicsx/lib/python3.11/site-packages/dolfinx/fem/forms.py:188\u001b[0m, in \u001b[0;36mform\u001b[0;34m(form, dtype, form_compiler_options, jit_options)\u001b[0m\n\u001b[1;32m    185\u001b[0m         \u001b[39mreturn\u001b[39;00m \u001b[39mlist\u001b[39m(\u001b[39mmap\u001b[39m(\u001b[39mlambda\u001b[39;00m sub_form: _create_form(sub_form), form))\n\u001b[1;32m    186\u001b[0m     \u001b[39mreturn\u001b[39;00m form\n\u001b[0;32m--> 188\u001b[0m \u001b[39mreturn\u001b[39;00m _create_form(form)\n",
      "File \u001b[0;32m~/anaconda3/envs/fenicsx/lib/python3.11/site-packages/dolfinx/fem/forms.py:183\u001b[0m, in \u001b[0;36mform.<locals>._create_form\u001b[0;34m(form)\u001b[0m\n\u001b[1;32m    180\u001b[0m \u001b[39m\u001b[39m\u001b[39m\"\"\"Recursively convert ufl.Forms to dolfinx.fem.Form, otherwise\u001b[39;00m\n\u001b[1;32m    181\u001b[0m \u001b[39mreturn form argument\"\"\"\u001b[39;00m\n\u001b[1;32m    182\u001b[0m \u001b[39mif\u001b[39;00m \u001b[39misinstance\u001b[39m(form, ufl\u001b[39m.\u001b[39mForm):\n\u001b[0;32m--> 183\u001b[0m     \u001b[39mreturn\u001b[39;00m _form(form)\n\u001b[1;32m    184\u001b[0m \u001b[39melif\u001b[39;00m \u001b[39misinstance\u001b[39m(form, collections\u001b[39m.\u001b[39mabc\u001b[39m.\u001b[39mIterable):\n\u001b[1;32m    185\u001b[0m     \u001b[39mreturn\u001b[39;00m \u001b[39mlist\u001b[39m(\u001b[39mmap\u001b[39m(\u001b[39mlambda\u001b[39;00m sub_form: _create_form(sub_form), form))\n",
      "File \u001b[0;32m~/anaconda3/envs/fenicsx/lib/python3.11/site-packages/dolfinx/fem/forms.py:141\u001b[0m, in \u001b[0;36mform.<locals>._form\u001b[0;34m(form)\u001b[0m\n\u001b[1;32m    139\u001b[0m \u001b[39mif\u001b[39;00m mesh \u001b[39mis\u001b[39;00m \u001b[39mNone\u001b[39;00m:\n\u001b[1;32m    140\u001b[0m     \u001b[39mraise\u001b[39;00m \u001b[39mRuntimeError\u001b[39;00m(\u001b[39m\"\u001b[39m\u001b[39mExpecting to find a Mesh in the form.\u001b[39m\u001b[39m\"\u001b[39m)\n\u001b[0;32m--> 141\u001b[0m ufcx_form, module, code \u001b[39m=\u001b[39m jit\u001b[39m.\u001b[39mffcx_jit(mesh\u001b[39m.\u001b[39mcomm, form,\n\u001b[1;32m    142\u001b[0m                                        form_compiler_options\u001b[39m=\u001b[39mform_compiler_options,\n\u001b[1;32m    143\u001b[0m                                        jit_options\u001b[39m=\u001b[39mjit_options)\n\u001b[1;32m    145\u001b[0m \u001b[39m# For each argument in form extract its function space\u001b[39;00m\n\u001b[1;32m    146\u001b[0m V \u001b[39m=\u001b[39m [arg\u001b[39m.\u001b[39mufl_function_space()\u001b[39m.\u001b[39m_cpp_object \u001b[39mfor\u001b[39;00m arg \u001b[39min\u001b[39;00m form\u001b[39m.\u001b[39marguments()]\n",
      "File \u001b[0;32m~/anaconda3/envs/fenicsx/lib/python3.11/site-packages/dolfinx/jit.py:56\u001b[0m, in \u001b[0;36mmpi_jit_decorator.<locals>.mpi_jit\u001b[0;34m(comm, *args, **kwargs)\u001b[0m\n\u001b[1;32m     51\u001b[0m \u001b[39m@functools\u001b[39m\u001b[39m.\u001b[39mwraps(local_jit)\n\u001b[1;32m     52\u001b[0m \u001b[39mdef\u001b[39;00m \u001b[39mmpi_jit\u001b[39m(comm, \u001b[39m*\u001b[39margs, \u001b[39m*\u001b[39m\u001b[39m*\u001b[39mkwargs):\n\u001b[1;32m     53\u001b[0m \n\u001b[1;32m     54\u001b[0m     \u001b[39m# Just call JIT compiler when running in serial\u001b[39;00m\n\u001b[1;32m     55\u001b[0m     \u001b[39mif\u001b[39;00m comm\u001b[39m.\u001b[39msize \u001b[39m==\u001b[39m \u001b[39m1\u001b[39m:\n\u001b[0;32m---> 56\u001b[0m         \u001b[39mreturn\u001b[39;00m local_jit(\u001b[39m*\u001b[39margs, \u001b[39m*\u001b[39m\u001b[39m*\u001b[39mkwargs)\n\u001b[1;32m     58\u001b[0m     \u001b[39m# Default status (0 == ok, 1 == fail)\u001b[39;00m\n\u001b[1;32m     59\u001b[0m     status \u001b[39m=\u001b[39m \u001b[39m0\u001b[39m\n",
      "File \u001b[0;32m~/anaconda3/envs/fenicsx/lib/python3.11/site-packages/dolfinx/jit.py:204\u001b[0m, in \u001b[0;36mffcx_jit\u001b[0;34m(ufl_object, form_compiler_options, jit_options)\u001b[0m\n\u001b[1;32m    202\u001b[0m \u001b[39m# Switch on type and compile, returning cffi object\u001b[39;00m\n\u001b[1;32m    203\u001b[0m \u001b[39mif\u001b[39;00m \u001b[39misinstance\u001b[39m(ufl_object, ufl\u001b[39m.\u001b[39mForm):\n\u001b[0;32m--> 204\u001b[0m     r \u001b[39m=\u001b[39m ffcx\u001b[39m.\u001b[39mcodegeneration\u001b[39m.\u001b[39mjit\u001b[39m.\u001b[39mcompile_forms([ufl_object], options\u001b[39m=\u001b[39mp_ffcx, \u001b[39m*\u001b[39m\u001b[39m*\u001b[39mp_jit)\n\u001b[1;32m    205\u001b[0m \u001b[39melif\u001b[39;00m \u001b[39misinstance\u001b[39m(ufl_object, ufl\u001b[39m.\u001b[39mFiniteElementBase):\n\u001b[1;32m    206\u001b[0m     r \u001b[39m=\u001b[39m ffcx\u001b[39m.\u001b[39mcodegeneration\u001b[39m.\u001b[39mjit\u001b[39m.\u001b[39mcompile_elements([ufl_object], options\u001b[39m=\u001b[39mp_ffcx, \u001b[39m*\u001b[39m\u001b[39m*\u001b[39mp_jit)\n",
      "File \u001b[0;32m~/anaconda3/envs/fenicsx/lib/python3.11/site-packages/ffcx/codegeneration/jit.py:190\u001b[0m, in \u001b[0;36mcompile_forms\u001b[0;34m(forms, options, cache_dir, timeout, cffi_extra_compile_args, cffi_verbose, cffi_debug, cffi_libraries)\u001b[0m\n\u001b[1;32m    187\u001b[0m     \u001b[39mfor\u001b[39;00m name \u001b[39min\u001b[39;00m form_names:\n\u001b[1;32m    188\u001b[0m         decl \u001b[39m+\u001b[39m\u001b[39m=\u001b[39m form_template\u001b[39m.\u001b[39mformat(name\u001b[39m=\u001b[39mname)\n\u001b[0;32m--> 190\u001b[0m     impl \u001b[39m=\u001b[39m _compile_objects(decl, forms, form_names, module_name, p, cache_dir,\n\u001b[1;32m    191\u001b[0m                             cffi_extra_compile_args, cffi_verbose, cffi_debug, cffi_libraries)\n\u001b[1;32m    192\u001b[0m \u001b[39mexcept\u001b[39;00m \u001b[39mException\u001b[39;00m \u001b[39mas\u001b[39;00m e:\n\u001b[1;32m    193\u001b[0m     \u001b[39mtry\u001b[39;00m:\n\u001b[1;32m    194\u001b[0m         \u001b[39m# remove c file so that it will not timeout next time\u001b[39;00m\n",
      "File \u001b[0;32m~/anaconda3/envs/fenicsx/lib/python3.11/site-packages/ffcx/codegeneration/jit.py:260\u001b[0m, in \u001b[0;36m_compile_objects\u001b[0;34m(decl, ufl_objects, object_names, module_name, options, cache_dir, cffi_extra_compile_args, cffi_verbose, cffi_debug, cffi_libraries)\u001b[0m\n\u001b[1;32m    256\u001b[0m \u001b[39mimport\u001b[39;00m \u001b[39mffcx\u001b[39;00m\u001b[39m.\u001b[39;00m\u001b[39mcompiler\u001b[39;00m\n\u001b[1;32m    258\u001b[0m \u001b[39m# JIT uses module_name as prefix, which is needed to make names of all struct/function\u001b[39;00m\n\u001b[1;32m    259\u001b[0m \u001b[39m# unique across modules\u001b[39;00m\n\u001b[0;32m--> 260\u001b[0m _, code_body \u001b[39m=\u001b[39m ffcx\u001b[39m.\u001b[39mcompiler\u001b[39m.\u001b[39mcompile_ufl_objects(ufl_objects, prefix\u001b[39m=\u001b[39mmodule_name, options\u001b[39m=\u001b[39moptions)\n\u001b[1;32m    262\u001b[0m ffibuilder \u001b[39m=\u001b[39m cffi\u001b[39m.\u001b[39mFFI()\n\u001b[1;32m    263\u001b[0m ffibuilder\u001b[39m.\u001b[39mset_source(module_name, code_body, include_dirs\u001b[39m=\u001b[39m[ffcx\u001b[39m.\u001b[39mcodegeneration\u001b[39m.\u001b[39mget_include_path()],\n\u001b[1;32m    264\u001b[0m                       extra_compile_args\u001b[39m=\u001b[39mcffi_extra_compile_args, libraries\u001b[39m=\u001b[39mcffi_libraries)\n",
      "File \u001b[0;32m~/anaconda3/envs/fenicsx/lib/python3.11/site-packages/ffcx/compiler.py:97\u001b[0m, in \u001b[0;36mcompile_ufl_objects\u001b[0;34m(ufl_objects, object_names, prefix, options, visualise)\u001b[0m\n\u001b[1;32m     95\u001b[0m \u001b[39m# Stage 1: analysis\u001b[39;00m\n\u001b[1;32m     96\u001b[0m cpu_time \u001b[39m=\u001b[39m time()\n\u001b[0;32m---> 97\u001b[0m analysis \u001b[39m=\u001b[39m analyze_ufl_objects(ufl_objects, options)\n\u001b[1;32m     98\u001b[0m _print_timing(\u001b[39m1\u001b[39m, time() \u001b[39m-\u001b[39m cpu_time)\n\u001b[1;32m    100\u001b[0m \u001b[39m# Stage 2: intermediate representation\u001b[39;00m\n",
      "File \u001b[0;32m~/anaconda3/envs/fenicsx/lib/python3.11/site-packages/ffcx/analysis.py:88\u001b[0m, in \u001b[0;36manalyze_ufl_objects\u001b[0;34m(ufl_objects, options)\u001b[0m\n\u001b[1;32m     85\u001b[0m     \u001b[39melse\u001b[39;00m:\n\u001b[1;32m     86\u001b[0m         \u001b[39mraise\u001b[39;00m \u001b[39mTypeError\u001b[39;00m(\u001b[39m\"\u001b[39m\u001b[39mUFL objects not recognised.\u001b[39m\u001b[39m\"\u001b[39m)\n\u001b[0;32m---> 88\u001b[0m form_data \u001b[39m=\u001b[39m \u001b[39mtuple\u001b[39m(_analyze_form(form, options) \u001b[39mfor\u001b[39;00m form \u001b[39min\u001b[39;00m forms)\n\u001b[1;32m     89\u001b[0m \u001b[39mfor\u001b[39;00m data \u001b[39min\u001b[39;00m form_data:\n\u001b[1;32m     90\u001b[0m     elements \u001b[39m+\u001b[39m\u001b[39m=\u001b[39m [convert_element(e) \u001b[39mfor\u001b[39;00m e \u001b[39min\u001b[39;00m data\u001b[39m.\u001b[39munique_sub_elements]\n",
      "File \u001b[0;32m~/anaconda3/envs/fenicsx/lib/python3.11/site-packages/ffcx/analysis.py:88\u001b[0m, in \u001b[0;36m<genexpr>\u001b[0;34m(.0)\u001b[0m\n\u001b[1;32m     85\u001b[0m     \u001b[39melse\u001b[39;00m:\n\u001b[1;32m     86\u001b[0m         \u001b[39mraise\u001b[39;00m \u001b[39mTypeError\u001b[39;00m(\u001b[39m\"\u001b[39m\u001b[39mUFL objects not recognised.\u001b[39m\u001b[39m\"\u001b[39m)\n\u001b[0;32m---> 88\u001b[0m form_data \u001b[39m=\u001b[39m \u001b[39mtuple\u001b[39m(_analyze_form(form, options) \u001b[39mfor\u001b[39;00m form \u001b[39min\u001b[39;00m forms)\n\u001b[1;32m     89\u001b[0m \u001b[39mfor\u001b[39;00m data \u001b[39min\u001b[39;00m form_data:\n\u001b[1;32m     90\u001b[0m     elements \u001b[39m+\u001b[39m\u001b[39m=\u001b[39m [convert_element(e) \u001b[39mfor\u001b[39;00m e \u001b[39min\u001b[39;00m data\u001b[39m.\u001b[39munique_sub_elements]\n",
      "File \u001b[0;32m~/anaconda3/envs/fenicsx/lib/python3.11/site-packages/ffcx/analysis.py:163\u001b[0m, in \u001b[0;36m_analyze_form\u001b[0;34m(form, options)\u001b[0m\n\u001b[1;32m    160\u001b[0m complex_mode \u001b[39m=\u001b[39m \u001b[39m\"\u001b[39m\u001b[39m_Complex\u001b[39m\u001b[39m\"\u001b[39m \u001b[39min\u001b[39;00m options[\u001b[39m\"\u001b[39m\u001b[39mscalar_type\u001b[39m\u001b[39m\"\u001b[39m]\n\u001b[1;32m    162\u001b[0m \u001b[39m# Compute form metadata\u001b[39;00m\n\u001b[0;32m--> 163\u001b[0m form_data \u001b[39m=\u001b[39m ufl\u001b[39m.\u001b[39malgorithms\u001b[39m.\u001b[39mcompute_form_data(\n\u001b[1;32m    164\u001b[0m     form,\n\u001b[1;32m    165\u001b[0m     do_apply_function_pullbacks\u001b[39m=\u001b[39m\u001b[39mTrue\u001b[39;00m,\n\u001b[1;32m    166\u001b[0m     do_apply_integral_scaling\u001b[39m=\u001b[39m\u001b[39mTrue\u001b[39;00m,\n\u001b[1;32m    167\u001b[0m     do_apply_geometry_lowering\u001b[39m=\u001b[39m\u001b[39mTrue\u001b[39;00m,\n\u001b[1;32m    168\u001b[0m     preserve_geometry_types\u001b[39m=\u001b[39m(ufl\u001b[39m.\u001b[39mclasses\u001b[39m.\u001b[39mJacobian,),\n\u001b[1;32m    169\u001b[0m     do_apply_restrictions\u001b[39m=\u001b[39m\u001b[39mTrue\u001b[39;00m,\n\u001b[1;32m    170\u001b[0m     do_append_everywhere_integrals\u001b[39m=\u001b[39m\u001b[39mFalse\u001b[39;00m,  \u001b[39m# do not add dx integrals to dx(i) in UFL\u001b[39;00m\n\u001b[1;32m    171\u001b[0m     complex_mode\u001b[39m=\u001b[39mcomplex_mode)\n\u001b[1;32m    173\u001b[0m \u001b[39m# If form contains a quadrature element, use the custom quadrature scheme\u001b[39;00m\n\u001b[1;32m    174\u001b[0m custom_q \u001b[39m=\u001b[39m \u001b[39mNone\u001b[39;00m\n",
      "File \u001b[0;32m~/anaconda3/envs/fenicsx/lib/python3.11/site-packages/ufl/algorithms/compute_form_data.py:415\u001b[0m, in \u001b[0;36mcompute_form_data\u001b[0;34m(form, do_apply_function_pullbacks, do_apply_integral_scaling, do_apply_geometry_lowering, preserve_geometry_types, do_apply_default_restrictions, do_apply_restrictions, do_estimate_degrees, do_append_everywhere_integrals, complex_mode)\u001b[0m\n\u001b[1;32m    412\u001b[0m preprocessed_form \u001b[39m=\u001b[39m reconstruct_form_from_integral_data(\u001b[39mself\u001b[39m\u001b[39m.\u001b[39mintegral_data)\n\u001b[1;32m    414\u001b[0m \u001b[39m# TODO: Test how fast this is\u001b[39;00m\n\u001b[0;32m--> 415\u001b[0m check_form_arity(preprocessed_form, \u001b[39mself\u001b[39m\u001b[39m.\u001b[39moriginal_form\u001b[39m.\u001b[39marguments(), complex_mode)\n\u001b[1;32m    417\u001b[0m \u001b[39m# TODO: This member is used by unit tests, change the tests to\u001b[39;00m\n\u001b[1;32m    418\u001b[0m \u001b[39m# remove this!\u001b[39;00m\n\u001b[1;32m    419\u001b[0m \u001b[39mself\u001b[39m\u001b[39m.\u001b[39mpreprocessed_form \u001b[39m=\u001b[39m preprocessed_form\n",
      "File \u001b[0;32m~/anaconda3/envs/fenicsx/lib/python3.11/site-packages/ufl/algorithms/check_arities.py:198\u001b[0m, in \u001b[0;36mcheck_form_arity\u001b[0;34m(form, arguments, complex_mode)\u001b[0m\n\u001b[1;32m    196\u001b[0m \u001b[39m\u001b[39m\u001b[39m\"\"\"Check the arity of a form.\"\"\"\u001b[39;00m\n\u001b[1;32m    197\u001b[0m \u001b[39mfor\u001b[39;00m itg \u001b[39min\u001b[39;00m form\u001b[39m.\u001b[39mintegrals():\n\u001b[0;32m--> 198\u001b[0m     check_integrand_arity(itg\u001b[39m.\u001b[39mintegrand(), arguments, complex_mode)\n",
      "File \u001b[0;32m~/anaconda3/envs/fenicsx/lib/python3.11/site-packages/ufl/algorithms/check_arities.py:179\u001b[0m, in \u001b[0;36mcheck_integrand_arity\u001b[0;34m(expr, arguments, complex_mode)\u001b[0m\n\u001b[1;32m    176\u001b[0m arguments \u001b[39m=\u001b[39m \u001b[39mtuple\u001b[39m(\u001b[39msorted\u001b[39m(\u001b[39mset\u001b[39m(arguments),\n\u001b[1;32m    177\u001b[0m                          key\u001b[39m=\u001b[39m\u001b[39mlambda\u001b[39;00m x: (x\u001b[39m.\u001b[39mnumber(), x\u001b[39m.\u001b[39mpart())))\n\u001b[1;32m    178\u001b[0m rules \u001b[39m=\u001b[39m ArityChecker(arguments)\n\u001b[0;32m--> 179\u001b[0m arg_tuples \u001b[39m=\u001b[39m map_expr_dag(rules, expr, compress\u001b[39m=\u001b[39m\u001b[39mFalse\u001b[39;00m)\n\u001b[1;32m    180\u001b[0m args \u001b[39m=\u001b[39m \u001b[39mtuple\u001b[39m(a[\u001b[39m0\u001b[39m] \u001b[39mfor\u001b[39;00m a \u001b[39min\u001b[39;00m arg_tuples)\n\u001b[1;32m    181\u001b[0m \u001b[39mif\u001b[39;00m args \u001b[39m!=\u001b[39m arguments:\n",
      "File \u001b[0;32m~/anaconda3/envs/fenicsx/lib/python3.11/site-packages/ufl/corealg/map_dag.py:34\u001b[0m, in \u001b[0;36mmap_expr_dag\u001b[0;34m(function, expression, compress, vcache, rcache)\u001b[0m\n\u001b[1;32m     15\u001b[0m \u001b[39mdef\u001b[39;00m \u001b[39mmap_expr_dag\u001b[39m(function, expression,  compress\u001b[39m=\u001b[39m\u001b[39mTrue\u001b[39;00m, vcache\u001b[39m=\u001b[39m\u001b[39mNone\u001b[39;00m, rcache\u001b[39m=\u001b[39m\u001b[39mNone\u001b[39;00m):\n\u001b[1;32m     16\u001b[0m \u001b[39m    \u001b[39m\u001b[39m\"\"\"Apply a function to each subexpression node in an expression DAG.\u001b[39;00m\n\u001b[1;32m     17\u001b[0m \n\u001b[1;32m     18\u001b[0m \u001b[39m    If the same funtion is called multiple times in a transformation\u001b[39;00m\n\u001b[0;32m   (...)\u001b[0m\n\u001b[1;32m     32\u001b[0m \u001b[39m        The result of the final function call\u001b[39;00m\n\u001b[1;32m     33\u001b[0m \u001b[39m    \"\"\"\u001b[39;00m\n\u001b[0;32m---> 34\u001b[0m     result, \u001b[39m=\u001b[39m map_expr_dags(function, [expression], compress\u001b[39m=\u001b[39mcompress,\n\u001b[1;32m     35\u001b[0m                             vcache\u001b[39m=\u001b[39mvcache,\n\u001b[1;32m     36\u001b[0m                             rcache\u001b[39m=\u001b[39mrcache)\n\u001b[1;32m     37\u001b[0m     \u001b[39mreturn\u001b[39;00m result\n",
      "File \u001b[0;32m~/anaconda3/envs/fenicsx/lib/python3.11/site-packages/ufl/corealg/map_dag.py:100\u001b[0m, in \u001b[0;36mmap_expr_dags\u001b[0;34m(function, expressions, compress, vcache, rcache)\u001b[0m\n\u001b[1;32m     98\u001b[0m     r \u001b[39m=\u001b[39m handlers[v\u001b[39m.\u001b[39m_ufl_typecode_](v)\n\u001b[1;32m     99\u001b[0m \u001b[39melse\u001b[39;00m:\n\u001b[0;32m--> 100\u001b[0m     r \u001b[39m=\u001b[39m handlers[v\u001b[39m.\u001b[39m_ufl_typecode_](v, \u001b[39m*\u001b[39m[vcache[u] \u001b[39mfor\u001b[39;00m u \u001b[39min\u001b[39;00m v\u001b[39m.\u001b[39mufl_operands])\n\u001b[1;32m    102\u001b[0m \u001b[39m# Optionally check if r is in rcache, a memory optimization\u001b[39;00m\n\u001b[1;32m    103\u001b[0m \u001b[39m# to be able to keep representation of result compact\u001b[39;00m\n\u001b[1;32m    104\u001b[0m \u001b[39mif\u001b[39;00m compress:\n",
      "File \u001b[0;32m~/anaconda3/envs/fenicsx/lib/python3.11/site-packages/ufl/algorithms/check_arities.py:53\u001b[0m, in \u001b[0;36mArityChecker.sum\u001b[0;34m(self, o, a, b)\u001b[0m\n\u001b[1;32m     51\u001b[0m \u001b[39m\u001b[39m\u001b[39m\"\"\"Apply to sum.\"\"\"\u001b[39;00m\n\u001b[1;32m     52\u001b[0m \u001b[39mif\u001b[39;00m a \u001b[39m!=\u001b[39m b:\n\u001b[0;32m---> 53\u001b[0m     \u001b[39mraise\u001b[39;00m ArityMismatch(\u001b[39mf\u001b[39m\u001b[39m\"\u001b[39m\u001b[39mAdding expressions with non-matching form arguments \u001b[39m\u001b[39m{\u001b[39;00m_afmt(a)\u001b[39m}\u001b[39;00m\u001b[39m vs \u001b[39m\u001b[39m{\u001b[39;00m_afmt(b)\u001b[39m}\u001b[39;00m\u001b[39m.\u001b[39m\u001b[39m\"\u001b[39m)\n\u001b[1;32m     54\u001b[0m \u001b[39mreturn\u001b[39;00m a\n",
      "\u001b[0;31mArityMismatch\u001b[0m: Adding expressions with non-matching form arguments () vs ('v_1',)."
     ]
    }
   ],
   "source": [
    "bilinear_form = fem.form(a)"
   ]
  },
  {
   "cell_type": "markdown",
   "metadata": {},
   "source": [
    "```{note}\n",
    "Note that we used `nabla_grad` and optionally `nabla_div` for the variational formulation, as oposed to our previous usage of\n",
    "`div` and `grad`. This is because for scalar functions $\\nabla u$ has a clear meaning\n",
    "$\\nabla u = \\left(\\frac{\\partial u}{\\partial x}, \\frac{\\partial u}{\\partial y}, \\frac{\\partial u}{\\partial z} \\right)$.\n",
    "\n",
    "However, if $u$ is vector valued, the meaning is less clear. Some sources define $\\nabla u$ as a matrix with the elements $\\frac{\\partial u_j}{\\partial x_i}$, while other  sources prefer\n",
    "$\\frac{\\partial u_i}{\\partial x_j}$. In DOLFINx `grad(u)` is defined as the amtrix with element $\\frac{\\partial u_i}{\\partial x_j}$. However, as it is common in continuum mechanics to use the other definition, `ufl` supplies us with `nabla_grad` for this purpose.\n",
    "```\n",
    "\n",
    "## Solve the linear variational problem\n",
    "As in the previous demos, we assemble the matrix and right hand side vector and use PETSc to solve our variational problem"
   ]
  },
  {
   "cell_type": "code",
   "execution_count": null,
   "metadata": {},
   "outputs": [],
   "source": [
    "problem = LinearProblem(a, L, bcs=[bc], petsc_options={\"ksp_type\": \"preonly\", \"pc_type\": \"lu\"})\n",
    "uh = problem.solve()"
   ]
  },
  {
   "cell_type": "markdown",
   "metadata": {},
   "source": [
    "## Visualization"
   ]
  },
  {
   "cell_type": "markdown",
   "metadata": {},
   "source": [
    "As in the previous demos, we can either use Pyvista or Paraview for visualization. We start by using Pyvista. Instead of adding scalar values to the grid, we add vectors."
   ]
  },
  {
   "cell_type": "code",
   "execution_count": null,
   "metadata": {},
   "outputs": [],
   "source": [
    "pyvista.start_xvfb()\n",
    "\n",
    "# Create plotter and pyvista grid\n",
    "p = pyvista.Plotter()\n",
    "topology, cell_types, geometry = plot.vtk_mesh(V)\n",
    "grid = pyvista.UnstructuredGrid(topology, cell_types, geometry)\n",
    "\n",
    "# Attach vector values to grid and warp grid by vector\n",
    "grid[\"u\"] = uh.x.array.reshape((geometry.shape[0], 3))\n",
    "actor_0 = p.add_mesh(grid, style=\"wireframe\", color=\"k\")\n",
    "warped = grid.warp_by_vector(\"u\", factor=1.5)\n",
    "actor_1 = p.add_mesh(warped, show_edges=True)\n",
    "p.show_axes()\n",
    "if not pyvista.OFF_SCREEN:\n",
    "    p.show()\n",
    "else:\n",
    "    figure_as_array = p.screenshot(\"deflection.png\")"
   ]
  },
  {
   "cell_type": "markdown",
   "metadata": {},
   "source": [
    "We could also use Paraview for visualizing this.\n",
    "As explained in previous sections, we save the solution with `XDMFFile`.\n",
    "After opening the file `deformation.xdmf` in Paraview and pressing `Apply`, one can press the `Warp by vector button` ![Warp by vector](warp_by_vector.png) or go through the top menu (`Filters->Alphabetical->Warp by Vector`) and press `Apply`. We can also change the color of the deformed beam by changing the value in the color menu ![color](color.png) from `Solid Color` to `Deformation`."
   ]
  },
  {
   "cell_type": "code",
   "execution_count": null,
   "metadata": {},
   "outputs": [],
   "source": [
    "with io.XDMFFile(domain.comm, \"deformation.xdmf\", \"w\") as xdmf:\n",
    "    xdmf.write_mesh(domain)\n",
    "    uh.name = \"Deformation\"\n",
    "    xdmf.write_function(uh)"
   ]
  },
  {
   "cell_type": "markdown",
   "metadata": {},
   "source": [
    "## Stress computation\n",
    "As soon as the displacement is computed, we can compute various stress measures. We will compute the von Mises stress defined as $\\sigma_m=\\sqrt{\\frac{3}{2}s:s}$ where $s$ is the deviatoric stress tensor $s(u)=\\sigma(u)-\\frac{1}{3}\\mathrm{tr}(\\sigma(u))I$."
   ]
  },
  {
   "cell_type": "code",
   "execution_count": null,
   "metadata": {},
   "outputs": [],
   "source": [
    "s = sigma(uh) - 1. / 3 * ufl.tr(sigma(uh)) * ufl.Identity(len(uh))\n",
    "von_Mises = ufl.sqrt(3. / 2 * ufl.inner(s, s))"
   ]
  },
  {
   "cell_type": "markdown",
   "metadata": {},
   "source": [
    "The `von_Mises` variable is now an expression that must be projected into an appropriate function space so that we can visualize it. As `uh` is a linear combination of first order piecewise continuous functions, the von Mises stresses will be a cell-wise constant function."
   ]
  },
  {
   "cell_type": "code",
   "execution_count": null,
   "metadata": {},
   "outputs": [],
   "source": [
    "V_von_mises = fem.FunctionSpace(domain, (\"DG\", 0))\n",
    "stress_expr = fem.Expression(von_Mises, V_von_mises.element.interpolation_points())\n",
    "stresses = fem.Function(V_von_mises)\n",
    "stresses.interpolate(stress_expr)"
   ]
  },
  {
   "cell_type": "markdown",
   "metadata": {},
   "source": [
    "In the previous sections, we have only visualized first order Lagrangian functions. However, the Von Mises stresses are piecewise constant on each cell. Therefore, we modify our plotting routine slightly. The first thing we notice is that we  now set values for each cell, which has a one to one correspondence with the degrees of freedom in the function space."
   ]
  },
  {
   "cell_type": "code",
   "execution_count": null,
   "metadata": {},
   "outputs": [],
   "source": [
    "warped.cell_data[\"VonMises\"] = stresses.vector.array\n",
    "warped.set_active_scalars(\"VonMises\")\n",
    "p = pyvista.Plotter()\n",
    "p.add_mesh(warped)\n",
    "p.show_axes()\n",
    "if not pyvista.OFF_SCREEN:\n",
    "    p.show()\n",
    "else:\n",
    "    stress_figure = p.screenshot(f\"stresses.png\")"
   ]
  }
 ],
 "metadata": {
  "jupytext": {
   "formats": "ipynb,py:light"
  },
  "kernelspec": {
   "display_name": "Python 3 (ipykernel)",
   "language": "python",
   "name": "python3"
  },
  "language_info": {
   "codemirror_mode": {
    "name": "ipython",
    "version": 3
   },
   "file_extension": ".py",
   "mimetype": "text/x-python",
   "name": "python",
   "nbconvert_exporter": "python",
   "pygments_lexer": "ipython3",
   "version": "3.11.6"
  }
 },
 "nbformat": 4,
 "nbformat_minor": 4
}
