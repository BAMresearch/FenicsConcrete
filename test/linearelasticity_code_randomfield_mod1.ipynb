{
 "cells": [
  {
   "cell_type": "markdown",
   "metadata": {},
   "source": [
    "# Implementation\n",
    "Author: Jørgen S. Dokken\n",
    "\n",
    "In this tutorial, you will learn how to:\n",
    "- Use a vector function space\n",
    "- Create a constant boundary condition on a vector space\n",
    "- Visualize cell wise constant functions\n",
    "- Compute Von Mises stresses\n",
    "\n",
    "## Test problem\n",
    "As a test example, we will model a clamped beam deformed under its own weigth in 3D. This can be modeled, by setting the right-hand side body force per unit volume to $f=(0,0,-\\rho g)$ with $\\rho$ the density of the beam and $g$ the acceleration of gravity. The beam is box-shaped with length $L$ and has a square cross section of width $W$. we set $u=u_D=(0,0,0)$ at the clamped end, x=0. The rest of the boundary is traction free, that is, we set $T=0$. We start by defining the physical variables used in the program."
   ]
  },
  {
   "cell_type": "code",
   "execution_count": null,
   "metadata": {},
   "outputs": [],
   "source": [
    "# Scaled variable\n",
    "L = 10#0.8\n",
    "W = 2#0.2\n",
    "#mu = 1\n",
    "rho = 100\n",
    "delta = W/L\n",
    "gamma = 0.4*delta**2\n",
    "#beta = 1.25\n",
    "#lambda_ = beta\n",
    "g = gamma"
   ]
  },
  {
   "cell_type": "markdown",
   "metadata": {},
   "source": [
    "We then create the mesh, which will consist of hexahedral elements, along with the function space. We will use the convenience function `VectorFunctionSpace`. However, we also could have used `ufl`s functionality, creating a vector element `element = ufl.VectorElement(\"CG\", mesh.ufl_cell(), 1)\n",
    "`, and intitializing the function space as `V = dolfinx.fem.FunctionSpace(mesh, element)`."
   ]
  },
  {
   "cell_type": "code",
   "execution_count": null,
   "metadata": {},
   "outputs": [],
   "source": [
    "import numpy as np\n",
    "import ufl\n",
    "\n",
    "from mpi4py import MPI\n",
    "from petsc4py.PETSc import ScalarType\n",
    "\n",
    "from dolfinx import mesh, fem, plot, io\n",
    "from dolfinx.fem import Function, FunctionSpace\n",
    "import pyvista\n",
    "\n",
    "num_elements_X = 20\n",
    "num_elements_Y = 10\n",
    "\n",
    "domain = mesh.create_rectangle(comm=MPI.COMM_WORLD,\n",
    "                            points=((0.0, 0.0), (L, W)), n=(num_elements_X, num_elements_Y),\n",
    "                            cell_type=mesh.CellType.quadrilateral)\n",
    "V = fem.VectorFunctionSpace(domain, (\"Lagrange\", 1))\n",
    "\n",
    "\n",
    "\"\"\" ElasticityConstant = fem.FunctionSpace(domain, (\"CG\", 1))\n",
    "\n",
    "random_field = Randomfield(fct_space=ElasticityConstant, cov_name='squared_exp', mean=1, rho=0.5, sigma=1, k=150)\n",
    "\n",
    "# solve eigenvalue problem\n",
    "random_field.solve_covariance_EVP() # generalized eigenvalue problem of correlation matrix (M)\n",
    "\n",
    "plt.figure()\n",
    "plt.title(\"Eigenvalue decay\")\n",
    "plt.semilogy(range(len(random_field.lambdas)), sorted(random_field.lambdas, reverse=True))\n",
    "\n",
    "# extract some modes of random field as fenics functions\n",
    "random_field.k = 3\n",
    "modes = random_field.modes(random_field.k, plot=False) \"\"\""
   ]
  },
  {
   "cell_type": "code",
   "execution_count": 1,
   "metadata": {},
   "outputs": [],
   "source": [
    "from mpi4py import MPI\n",
    "from dolfinx import mesh, fem, plot, io\n",
    "\n",
    "domain = mesh.create_unit_square(MPI.COMM_WORLD, 40, 40, mesh.CellType.quadrilateral)\n",
    "from dolfinx.fem import FunctionSpace\n",
    "V = FunctionSpace(domain, (\"CG\", 1))"
   ]
  },
  {
   "cell_type": "code",
   "execution_count": 4,
   "metadata": {},
   "outputs": [
    {
     "name": "stdout",
     "output_type": "stream",
     "text": [
      "[1.64687371e-17 1.84092880e-17 3.53403706e-17 ... 2.36835185e-01\n",
      " 2.36835185e-01 2.45426177e-01] [[-7.34095785e-06  7.49443080e-05 -8.06757357e-06 ...  6.20934440e-02\n",
      "  -1.72759146e-15 -2.19351401e-02]\n",
      " [ 1.08451983e-06 -1.45200152e-04 -7.89303402e-06 ...  9.62969916e-02\n",
      "  -5.62978347e-04 -3.42167687e-02]\n",
      " [ 2.40142053e-05 -1.24298952e-04  3.51869543e-05 ...  9.62969916e-02\n",
      "   5.62978347e-04 -3.42167687e-02]\n",
      " ...\n",
      " [ 4.28366610e-03  3.29007226e-03  1.27751707e-03 ... -9.62969916e-02\n",
      "  -5.62978347e-04 -3.42167687e-02]\n",
      " [ 4.26159346e-03  3.38949978e-03  1.29498940e-03 ... -9.62969916e-02\n",
      "   5.62978347e-04 -3.42167687e-02]\n",
      " [-2.67679346e-03 -2.08659165e-03 -8.16820210e-04 ... -6.20934440e-02\n",
      "   4.24873347e-16 -2.19351401e-02]]\n"
     ]
    },
    {
     "data": {
      "text/plain": [
       "\" poissons_ratio = random_field_generator(domain,'squared_exp', 0.2, 0.3, 0.05, 0, 3)\\npoissons_ratio.create_random_field(_type='random') \""
      ]
     },
     "execution_count": 4,
     "metadata": {},
     "output_type": "execute_result"
    }
   ],
   "source": [
    "from randomfield_mod1 import Randomfield\n",
    "#from relpgd.alib.logger import setup_annika_logger\n",
    "import matplotlib.pyplot as plt\n",
    "from mpi4py import MPI\n",
    "\n",
    "\"\"\" def random_field_generator(domain, cov_name, mean, correlation_length, variance, no_eigen_values):\n",
    "    field_function_space = fem.FunctionSpace(domain, (\"CG\", 1))\n",
    "    random_field = Randomfield(field_function_space, cov_name, mean, correlation_length, variance, no_eigen_values)\n",
    "    #random_field = Randomfield(fct_space=var_function_space, cov_name='squared_exp', mean=1, rho=0.5, sigma=1, k=10)\n",
    "    #random_field.solve_covariance_EVP()\n",
    "    return random_field \"\"\"\n",
    "\n",
    "#def random_field_generator(domain, cov_name, mean, correlation_length1, correlation_length2, variance, no_eigen_values):\n",
    "def random_field_generator(domain, cov_name, mean, correlation_length1, variance, no_eigen_values):\n",
    "    field_function_space = fem.FunctionSpace(domain, (\"CG\", 1))\n",
    "    #random_field = Randomfield(field_function_space, cov_name, mean, correlation_length1, correlation_length2, variance, no_eigen_values)\n",
    "    random_field = Randomfield(field_function_space, cov_name, mean, correlation_length1, variance, no_eigen_values)\n",
    "    ####random_field = Randomfield(fct_space=var_function_space, cov_name='squared_exp', mean=1, rho=0.5, sigma=1, k=10)\n",
    "    ####random_field.solve_covariance_EVP()\n",
    "    return random_field\n",
    "\n",
    "# domain, cov_name, mean, correlation_length, variance, no_eigen_values\n",
    "# domain, cov_name, mean, correlation_length1, correlation_length2, variance, no_eigen_values\n",
    "\n",
    "e_modulus = random_field_generator(domain,'squared_exp', 100, 0.05, 4, 3) \n",
    "e_modulus.create_random_field(_type='random')\n",
    "\n",
    "\"\"\" poissons_ratio = random_field_generator(domain,'squared_exp', 0.2, 0.3, 0.05, 0, 3)\n",
    "poissons_ratio.create_random_field(_type='random') \"\"\"\n"
   ]
  },
  {
   "cell_type": "code",
   "execution_count": null,
   "metadata": {},
   "outputs": [],
   "source": [
    "pyvista.set_jupyter_backend(\"pythreejs\")\n",
    "\n",
    "e_modulus_topology, e_modulus_cell_types, e_modulus_geometry = plot.create_vtk_mesh(V)\n",
    "print(\"Random field with %s\" %(e_modulus.values))\n",
    "\n",
    "e_modulus_grid = pyvista.UnstructuredGrid(e_modulus_topology, e_modulus_cell_types, e_modulus_geometry)\n",
    "e_modulus_grid.point_data[\"Elasticity\"] = e_modulus.field.vector[:]  \n",
    "e_modulus_grid.set_active_scalars(\"Elasticity\")\n",
    "e_modulus_plotter = pyvista.Plotter()\n",
    "e_modulus_plotter.add_mesh(e_modulus_grid, show_edges=True)\n",
    "e_modulus_plotter.view_xy()\n",
    "if not pyvista.OFF_SCREEN:\n",
    "    e_modulus_plotter.show()"
   ]
  },
  {
   "cell_type": "code",
   "execution_count": null,
   "metadata": {},
   "outputs": [],
   "source": [
    "#pyvista.set_jupyter_backend(\"pythreejs\")\n",
    "\n",
    "poissonsratio_topology, poissonsratio_cell_types, poissonsratio_geometry = plot.create_vtk_mesh(V)\n",
    "print(\"Random field with %s\" %(poissons_ratio.values))\n",
    "\n",
    "poissonsratio_grid = pyvista.UnstructuredGrid(poissonsratio_topology, poissonsratio_cell_types, poissonsratio_geometry)\n",
    "poissonsratio_grid.point_data[\"Poissons\"] = poissons_ratio.field.vector[:]  \n",
    "poissonsratio_grid.set_active_scalars(\"Poissons\")\n",
    "poissonsratio_plotter = pyvista.Plotter()\n",
    "poissonsratio_plotter.add_mesh(poissonsratio_grid, show_edges=True)\n",
    "poissonsratio_plotter.view_xy()\n",
    "if not pyvista.OFF_SCREEN:\n",
    "    poissonsratio_plotter.show()"
   ]
  },
  {
   "cell_type": "markdown",
   "metadata": {},
   "source": [
    "## Boundary conditions\n",
    "As we would like to clamp the boundary at $x=0$, we do this by using a marker function, which locate the facets where $x$ is close to zero by machine prescision."
   ]
  },
  {
   "cell_type": "code",
   "execution_count": null,
   "metadata": {},
   "outputs": [],
   "source": [
    "\n",
    "def clamped_boundary(x):                                    # fenics will individually call this function for every node and will note the true or false value.\n",
    "    return np.isclose(x[0], 0)\n",
    "\n",
    "fdim = domain.topology.dim - 1\n",
    "boundary_facets = mesh.locate_entities_boundary(domain, fdim, clamped_boundary)\n",
    "\n",
    "#print(boundary_facets)\n",
    "\n",
    "u_D = np.array([0, 0], dtype=ScalarType)                    # array of zeros is supplied here as an input.\n",
    "\n",
    "#fem.locate_dofs_geometrical(V, clamped_boundary) --- alternative for boundary facets\n",
    "bc = fem.dirichletbc(u_D, fem.locate_dofs_topological(V, fdim, boundary_facets), V)\n",
    "\n",
    "#print(fem.locate_dofs_topological(V, fdim, boundary_facets)) # shows that dofs are actually nodes.\n",
    "print(fem.locate_dofs_geometrical(V, clamped_boundary))\n",
    "print(fem.locate_dofs_topological(V, fdim, boundary_facets))"
   ]
  },
  {
   "cell_type": "markdown",
   "metadata": {},
   "source": [
    "As we want the traction $T$ over the remaining boundary to be $0$, we create a `dolfinx.Constant`"
   ]
  },
  {
   "cell_type": "code",
   "execution_count": null,
   "metadata": {},
   "outputs": [],
   "source": [
    "T = fem.Constant(domain, ScalarType((0, 0)))    #no external load over the entire boundary. no problem in defining it over dirichlet boundary."
   ]
  },
  {
   "cell_type": "markdown",
   "metadata": {},
   "source": [
    "We also want to specify the integration measure $\\mathrm{d}s$, which should be the integral over the boundary of our domain. We do this by using `ufl`, and its built in integration measures"
   ]
  },
  {
   "cell_type": "code",
   "execution_count": null,
   "metadata": {},
   "outputs": [],
   "source": [
    "ds = ufl.Measure(\"ds\", domain=domain)"
   ]
  },
  {
   "cell_type": "markdown",
   "metadata": {},
   "source": [
    "## Variational formulation\n",
    "We are now ready to create our variational formulation in close to mathematical syntax, as for the previous problems."
   ]
  },
  {
   "cell_type": "code",
   "execution_count": null,
   "metadata": {},
   "outputs": [],
   "source": [
    "#print(mu.field.vector[:])\n",
    "#lambda_= fem.Constant(domain, lambda_.field.vector[:])\n",
    "#mu = fem.Constant(domain, mu.field.vector[:])\n",
    "\n",
    "def epsilon(u):\n",
    "    return ufl.sym(ufl.grad(u)) # Equivalent to 0.5*(ufl.nabla_grad(u) + ufl.nabla_grad(u).T)\n",
    "\n",
    "def lambda_(e_modulus, poissons_ratio):\n",
    "    return (e_modulus.field*poissons_ratio.field)/((1+e_modulus.field)*(1-2*poissons_ratio.field))\n",
    "\n",
    "def mu(e_modulus, poissons_ratio):\n",
    "    return e_modulus.field/(2*(1+poissons_ratio.field))\n",
    "\n",
    "def sigma(u):\n",
    "    #return lambda_.field * ufl.nabla_div(u) * ufl.Identity(u.geometric_dimension()) + 2*mu.field*epsilon(u)\n",
    "    #return (e_modulus.field*poissons_ratio.field)/((1+e_modulus.field)*(1-2*poissons_ratio.field))* ufl.nabla_div(u) * ufl.Identity(u.geometric_dimension()) + 2*e_modulus.field/(2*(1+poissons_ratio.field))*epsilon(u)\n",
    "    return lambda_(e_modulus, poissons_ratio) * ufl.nabla_div(u) * ufl.Identity(u.geometric_dimension()) + 2*mu(e_modulus, poissons_ratio)*epsilon(u)\n",
    "\n",
    "u = ufl.TrialFunction(V)  #u is the object of the argument class\n",
    "v = ufl.TestFunction(V)\n",
    "f = fem.Constant(domain, ScalarType((0, -rho*g)))\n",
    "a = ufl.inner(sigma(u), epsilon(v)) * ufl.dx\n",
    "L = ufl.dot(f, v) * ufl.dx + ufl.dot(T, v) * ds"
   ]
  },
  {
   "cell_type": "markdown",
   "metadata": {},
   "source": [
    "```{note}\n",
    "Note that we used `nabla_grad` and optionally `nabla_div` for the variational formulation, as oposed to our previous usage of \n",
    "`div` and `grad`. This is because for scalar functions $\\nabla u$ has a clear meaning\n",
    "$\\nabla u = \\left(\\frac{\\partial u}{\\partial x}, \\frac{\\partial u}{\\partial y}, \\frac{\\partial u}{\\partial z} \\right)$.\n",
    "\n",
    "However, if $u$ is vector valued, the meaning is less clear. Some sources define $\\nabla u$ as a matrix with the elements $\\frac{\\partial u_j}{\\partial x_i}$, while other  sources prefer \n",
    "$\\frac{\\partial u_i}{\\partial x_j}$. In DOLFINx `grad(u)` is defined as the amtrix with element $\\frac{\\partial u_i}{\\partial x_j}$. However, as it is common in continuum mechanics to use the other definition, `ufl` supplies us with `nabla_grad` for this purpose.\n",
    "```\n",
    " \n",
    "## Solve the linear variational problem\n",
    "As in the previous demos, we assemble the matrix and right hand side vector and use PETSc to solve our variational problem"
   ]
  },
  {
   "cell_type": "code",
   "execution_count": null,
   "metadata": {},
   "outputs": [],
   "source": [
    "problem = fem.petsc.LinearProblem(a, L, bcs=[bc], petsc_options={\"ksp_type\": \"preonly\", \"pc_type\": \"lu\"})\n",
    "uh = problem.solve()"
   ]
  },
  {
   "cell_type": "code",
   "execution_count": null,
   "metadata": {},
   "outputs": [],
   "source": [
    "from dolfinx import geometry\n",
    "bb_tree = geometry.BoundingBoxTree(domain, domain.topology.dim)\n",
    "points=np.array([[0.1],[0.123], [0]])\n",
    "\n",
    "cells = []\n",
    "points_on_proc = []\n",
    "# Find cells whose bounding-box collide with the the points\n",
    "cell_candidates = geometry.compute_collisions(bb_tree, points.T)\n",
    "print(type(cell_candidates))\n",
    "# Choose one of the cells that contains the point\n",
    "colliding_cells = geometry.compute_colliding_cells(domain, cell_candidates, points.T)\n",
    "for i, point in enumerate(points.T):\n",
    "    if len(colliding_cells.links(i))>0:\n",
    "        points_on_proc.append(point)\n",
    "        cells.append(colliding_cells.links(i)[0])\n",
    "\n",
    "points_on_proc = np.array(points_on_proc, dtype=np.float64)\n",
    "u_values = uh.eval(points_on_proc, cells)\n",
    "print(u_values)"
   ]
  },
  {
   "cell_type": "code",
   "execution_count": null,
   "metadata": {},
   "outputs": [],
   "source": [
    "#print(dir(cell_candidates.links(0)[0]))\n",
    "print(cell_candidates)\n",
    "print(colliding_cells)\n",
    "#print(cell_candidates.array)\n",
    "#print(cell_candidates.links(0)[0])\n",
    "#print(points_on_proc)"
   ]
  },
  {
   "cell_type": "code",
   "execution_count": null,
   "metadata": {},
   "outputs": [],
   "source": [
    "#print(uh.x.array.shape)\n",
    "#print(uh.__dict__)\n",
    "print(uh([1,0]))\n",
    "print(dir(domain))\n",
    "#Sprint(domain.topology.create_entities(3))\n",
    "print(dir(uh))\n",
    "#print((uh.x.array))\n",
    "\n",
    "print(uh.eval([0,1,0],100))"
   ]
  },
  {
   "cell_type": "markdown",
   "metadata": {},
   "source": [
    "## Visualization"
   ]
  },
  {
   "cell_type": "markdown",
   "metadata": {},
   "source": [
    "As in the previous demos, we can either use Pyvista or Paraview for visualization. We start by using Pyvista. Instead of adding scalar values to the grid, we add vectors."
   ]
  },
  {
   "cell_type": "code",
   "execution_count": null,
   "metadata": {},
   "outputs": [],
   "source": [
    "from dolfinx import plot\n",
    "import pyvista\n",
    "pyvista.set_jupyter_backend(\"pythreejs\")\n",
    "\n",
    "topology, cell_types, geometry = plot.create_vtk_mesh(domain, domain.topology.dim)\n",
    "grid = pyvista.UnstructuredGrid(topology, cell_types, geometry)\n",
    "\n",
    "\"\"\" plotter = pyvista.Plotter()\n",
    "plotter.add_mesh(grid, show_edges=True)\n",
    "plotter.view_xy()\n",
    "if not pyvista.OFF_SCREEN:\n",
    "    plotter.show()\n",
    "else:\n",
    "    pyvista.start_xvfb()\n",
    "    figure = plotter.screenshot(\"fundamentals_mesh.png\") \"\"\"\n",
    "\n",
    "u_topology, u_cell_types, u_geometry = plot.create_vtk_mesh(V)\n",
    "u_grid = pyvista.UnstructuredGrid(u_topology, u_cell_types, u_geometry)\n",
    "u_grid.point_data[\"u\"] = uh.x.array.reshape((u_geometry.shape[0], 2))\n",
    "print(u_geometry.shape[0])\n",
    "u_grid.set_active_scalars(\"u\")\n",
    "u_plotter = pyvista.Plotter()\n",
    "u_plotter.add_mesh(u_grid, show_edges=True)\n",
    "u_plotter.view_xy()\n",
    "if not pyvista.OFF_SCREEN:\n",
    "    u_plotter.show()"
   ]
  },
  {
   "cell_type": "code",
   "execution_count": null,
   "metadata": {},
   "outputs": [],
   "source": [
    "#alt\n",
    "\n",
    "import pyvista\n",
    "pyvista.set_jupyter_backend(\"pythreejs\")\n",
    "\n",
    "# Create plotter and pyvista grid\n",
    "p = pyvista.Plotter()\n",
    "topology, cell_types, geometry = plot.create_vtk_mesh(V)\n",
    "grid = pyvista.UnstructuredGrid(topology, cell_types, geometry)\n",
    "\n",
    "# Attach vector values to grid and warp grid by vector\n",
    "grid[\"u\"] = uh.x.array.reshape((geometry.shape[0], 3))\n",
    "actor_0 = p.add_mesh(grid, style=\"wireframe\", color=\"k\")\n",
    "warped = grid.warp_by_vector(\"u\", factor=1.5)\n",
    "actor_1 = p.add_mesh(warped, show_edges=True)\n",
    "p.show_axes()\n",
    "if not pyvista.OFF_SCREEN:\n",
    "   p.show()\n",
    "else:\n",
    "   pyvista.start_xvfb()\n",
    "   figure_as_array = p.screenshot(\"deflection.png\")"
   ]
  },
  {
   "cell_type": "markdown",
   "metadata": {},
   "source": [
    "We could also use Paraview for visualizing this.\n",
    "As explained in previous sections, we save the solution with `XDMFFile`.\n",
    "After opening the file `deformation.xdmf` in Paraview and pressing `Apply`, one can press the `Warp by vector button` ![Warp by vector](warp_by_vector.png) or go through the top menu (`Filters->Alphabetical->Warp by Vector`) and press `Apply`. We can also change the color of the deformed beam by changing the value in the color menu ![color](color.png) from `Solid Color` to `Deformation`."
   ]
  },
  {
   "cell_type": "code",
   "execution_count": null,
   "metadata": {},
   "outputs": [],
   "source": [
    "print(help(domain.geometry))"
   ]
  },
  {
   "cell_type": "code",
   "execution_count": null,
   "metadata": {},
   "outputs": [],
   "source": [
    "with io.XDMFFile(domain.comm, \"2DCantilever_poissons_ratio.xdmf\", \"w\") as xdmf:\n",
    "    xdmf.write_mesh(domain)\n",
    "    poissons_ratio.field.name = \"poissons ratio\"\n",
    "    xdmf.write_function(poissons_ratio.field)"
   ]
  },
  {
   "cell_type": "code",
   "execution_count": null,
   "metadata": {},
   "outputs": [],
   "source": [
    "print(type(e_modulus))\n",
    "with io.XDMFFile(domain.comm, \"2DCantilever_e_modulus.xdmf\", \"w\") as xdmf:\n",
    "    xdmf.write_mesh(domain)\n",
    "    e_modulus.field.name = \"e_Modulus\"\n",
    "    xdmf.write_function(e_modulus.field)"
   ]
  },
  {
   "cell_type": "code",
   "execution_count": null,
   "metadata": {},
   "outputs": [],
   "source": [
    "with io.XDMFFile(domain.comm, \"2DCantilever_random.xdmf\", \"w\") as xdmf:\n",
    "    xdmf.write_mesh(domain)\n",
    "    uh.name = \"Deformation\"\n",
    "    xdmf.write_function(uh)"
   ]
  },
  {
   "cell_type": "markdown",
   "metadata": {},
   "source": [
    "## Stress computation\n",
    "As soon as the displacement is computed, we can compute various stress measures. We will compute the von Mises stress defined as $\\sigma_m=\\sqrt{\\frac{3}{2}s:s}$ where $s$ is the deviatoric stress tensor $s(u)=\\sigma(u)-\\frac{1}{3}\\mathrm{tr}(\\sigma(u))I$."
   ]
  },
  {
   "cell_type": "code",
   "execution_count": null,
   "metadata": {},
   "outputs": [],
   "source": [
    "s = sigma(uh) -1./3*ufl.tr(sigma(uh))*ufl.Identity(uh.geometric_dimension())\n",
    "von_Mises = ufl.sqrt(3./2*ufl.inner(s, s))"
   ]
  },
  {
   "cell_type": "markdown",
   "metadata": {},
   "source": [
    "The `von_Mises` variable is now an expression that must be projected into an appropriate function space so that we can visualize it. As `uh` is a linear combination of first order piecewise continuous functions, the von Mises stresses will be a cell-wise constant function."
   ]
  },
  {
   "cell_type": "code",
   "execution_count": null,
   "metadata": {},
   "outputs": [],
   "source": [
    "V_von_mises = fem.FunctionSpace(domain, (\"DG\", 0))\n",
    "stress_expr = fem.Expression(von_Mises, V_von_mises.element.interpolation_points)\n",
    "stresses = fem.Function(V_von_mises)\n",
    "stresses.interpolate(stress_expr)"
   ]
  },
  {
   "cell_type": "markdown",
   "metadata": {},
   "source": [
    "In the previous sections, we have only visualized first order Lagrangian functions. However, the Von Mises stresses are piecewise constant on each cell. Therefore, we modify our plotting routine slightly. The first thing we notice is that we  now set values for each cell, which has a one to one correspondence with the degrees of freedom in the function space."
   ]
  },
  {
   "cell_type": "code",
   "execution_count": null,
   "metadata": {},
   "outputs": [],
   "source": [
    "#topology, cell_types, geometry = plot.create_vtk_mesh(domain, domain.topology.dim)\n",
    "#grid = pyvista.UnstructuredGrid(topology, cell_types, geometry)\n",
    "\n",
    "#pyvista.set_jupyter_backend(\"pythreejs\")\n",
    "\n",
    "#plotter = pyvista.Plotter()\n",
    "#plotter.add_mesh(grid, show_edges=True)\n",
    "#plotter.view_xy()\n",
    "#if not pyvista.OFF_SCREEN:\n",
    "#    plotter.show()\n",
    "#else:\n",
    "#    pyvista.start_xvfb()\n",
    "#    figure = plotter.screenshot(\"fundamentals_mesh.png\")"
   ]
  }
 ],
 "metadata": {
  "jupytext": {
   "formats": "ipynb,py:light"
  },
  "kernelspec": {
   "display_name": "fenicsx",
   "language": "python",
   "name": "python3"
  },
  "language_info": {
   "codemirror_mode": {
    "name": "ipython",
    "version": 3
   },
   "file_extension": ".py",
   "mimetype": "text/x-python",
   "name": "python",
   "nbconvert_exporter": "python",
   "pygments_lexer": "ipython3",
   "version": "3.10.6 | packaged by conda-forge | (main, Aug 22 2022, 20:35:26) [GCC 10.4.0]"
  },
  "vscode": {
   "interpreter": {
    "hash": "a05d21e87366f5f97be602c28db8ca097b147eecf4c36f36d3ec9878255c920b"
   }
  }
 },
 "nbformat": 4,
 "nbformat_minor": 4
}
