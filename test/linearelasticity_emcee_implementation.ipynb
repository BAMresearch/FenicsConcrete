{
 "cells": [
  {
   "cell_type": "markdown",
   "metadata": {},
   "source": [
    "# Implementation\n",
    "Author: Jørgen S. Dokken\n",
    "\n",
    "In this tutorial, you will learn how to:\n",
    "- Use a vector function space\n",
    "- Create a constant boundary condition on a vector space\n",
    "- Visualize cell wise constant functions\n",
    "- Compute Von Mises stresses\n",
    "\n",
    "## Test problem\n",
    "As a test example, we will model a clamped beam deformed under its own weigth in 3D. This can be modeled, by setting the right-hand side body force per unit volume to $f=(0,0,-\\rho g)$ with $\\rho$ the density of the beam and $g$ the acceleration of gravity. The beam is box-shaped with length $L$ and has a square cross section of width $W$. we set $u=u_D=(0,0,0)$ at the clamped end, x=0. The rest of the boundary is traction free, that is, we set $T=0$. We start by defining the physical variables used in the program."
   ]
  },
  {
   "cell_type": "code",
   "execution_count": 1,
   "metadata": {},
   "outputs": [],
   "source": [
    "# Scaled variable  ########################\n",
    "Length = 1\n",
    "W = 0.2\n",
    "nu = 0.23\n",
    "E =150\n",
    "rho = 1\n",
    "#mu = E / (2.0 * (1.0 + nu))\n",
    "#lambda_ = E * nu / ((1.0 + nu) * (1.0 - 2.0 * nu))\n",
    "g = 9.81"
   ]
  },
  {
   "cell_type": "markdown",
   "metadata": {},
   "source": [
    "We then create the mesh, which will consist of hexahedral elements, along with the function space. We will use the convenience function `VectorFunctionSpace`. However, we also could have used `ufl`s functionality, creating a vector element `element = ufl.VectorElement(\"CG\", mesh.ufl_cell(), 1)\n",
    "`, and intitializing the function space as `V = dolfinx.fem.FunctionSpace(mesh, element)`."
   ]
  },
  {
   "cell_type": "code",
   "execution_count": 2,
   "metadata": {},
   "outputs": [
    {
     "data": {
      "image/png": "[encoded data removed]",
      "text/plain": [
       "<Figure size 640x480 with 1 Axes>"
      ]
     },
     "metadata": {},
     "output_type": "display_data"
    }
   ],
   "source": [
    "import matplotlib.pyplot as plt\n",
    "import numpy as np\n",
    "x = np.array([1, 2,3,4,5])\n",
    "y = np.array([1, 2,3,4,5])\n",
    "plt.plot(x, y)\n",
    "plt.show()"
   ]
  },
  {
   "cell_type": "code",
   "execution_count": 2,
   "metadata": {},
   "outputs": [
    {
     "data": {
      "text/plain": [
       "' def funk(arrae):\\n    return np.array([1])\\n\\nmesh.locate_entities(domain,2,funk(np.array([[1.],[0]]))) '"
      ]
     },
     "execution_count": 2,
     "metadata": {},
     "output_type": "execute_result"
    }
   ],
   "source": [
    "import numpy as np\n",
    "import ufl\n",
    "\n",
    "from mpi4py import MPI\n",
    "from petsc4py.PETSc import ScalarType\n",
    "\n",
    "from dolfinx import mesh, fem, plot, io\n",
    "from dolfinx.fem import Function, FunctionSpace\n",
    "\n",
    "num_elements_X = 20\n",
    "num_elements_Y = 10\n",
    "\n",
    "domain = mesh.create_rectangle(comm=MPI.COMM_WORLD,\n",
    "                            points=((0.0, 0.0), (Length, W)), n=(num_elements_X, num_elements_Y),\n",
    "                            cell_type=mesh.CellType.quadrilateral)\n",
    "V = fem.VectorFunctionSpace(domain, (\"Lagrange\", 1))\n",
    "#print(V.tabulate_dof_coordinates())\n",
    "\"\"\" def funk(arrae):\n",
    "    return np.array([1])\n",
    "\n",
    "mesh.locate_entities(domain,2,funk(np.array([[1.],[0]]))) \"\"\""
   ]
  },
  {
   "cell_type": "code",
   "execution_count": 3,
   "metadata": {},
   "outputs": [],
   "source": [
    "lambda_ = fem.Constant(domain, E * nu / ((1.0 + nu) * (1.0 - 2.0 * nu)))\n",
    "mu = fem.Constant(domain, E / (2.0 * (1.0 + nu)))"
   ]
  },
  {
   "cell_type": "code",
   "execution_count": 13,
   "metadata": {},
   "outputs": [],
   "source": [
    "E = 100\n",
    "nu = 0.2\n",
    "lambda_.value = E * nu / ((1.0 + nu) * (1.0 - 2.0 * nu))\n",
    "mu.value = E / (2.0 * (1.0 + nu))"
   ]
  },
  {
   "cell_type": "code",
   "execution_count": null,
   "metadata": {},
   "outputs": [],
   "source": [
    "\"\"\" Q = FunctionSpace(domain, (\"DG\", 0))\n",
    "\n",
    "def evalLambda_(x):\n",
    "    values = np.zeros(x.shape[1], dtype=ScalarType)\n",
    "    top_coords = x[1]>0.1\n",
    "    bottom_coords = x[1]<0.1\n",
    "    values[top_coords] = np.full(sum(top_coords), 0)\n",
    "    values[bottom_coords] = np.full(sum(bottom_coords), 0)\n",
    "    #print(type(values), values.shape)\n",
    "    return values\n",
    "lambda_ = Function(Q)                       #lambda_ is a Function class' object\n",
    "print(lambda_.x)\n",
    "lambda_.interpolate(evalLambda_)            #interpolate is Function class' function\n",
    "\n",
    "\n",
    "def evalMu_(x):\n",
    "    values = np.zeros(x.shape[1], dtype=ScalarType)\n",
    "    top_coords = x[1]>0.1\n",
    "    bottom_coords = x[1]<0.1\n",
    "    values[top_coords] = np.full(sum(top_coords), 0)\n",
    "    values[bottom_coords] = np.full(sum(bottom_coords), 0)\n",
    "    #print(values)\n",
    "    return values\n",
    "\n",
    "mu = Function(Q)\n",
    "mu.interpolate(evalMu_) \"\"\""
   ]
  },
  {
   "cell_type": "markdown",
   "metadata": {},
   "source": [
    "## Boundary conditions\n",
    "As we would like to clamp the boundary at $x=0$, we do this by using a marker function, which locate the facets where $x$ is close to zero by machine prescision."
   ]
  },
  {
   "cell_type": "code",
   "execution_count": 4,
   "metadata": {},
   "outputs": [],
   "source": [
    "def clamped_boundary(x):\n",
    "    return np.isclose(x[0], 0)\n",
    "\n",
    "fdim = domain.topology.dim - 1\n",
    "boundary_facets = mesh.locate_entities_boundary(domain, fdim, clamped_boundary)\n",
    "\n",
    "u_D = np.array([0,0], dtype=ScalarType)\n",
    "bc = fem.dirichletbc(u_D, fem.locate_dofs_topological(V, fdim, boundary_facets), V)"
   ]
  },
  {
   "cell_type": "markdown",
   "metadata": {},
   "source": [
    "As we want the traction $T$ over the remaining boundary to be $0$, we create a `dolfinx.Constant`"
   ]
  },
  {
   "cell_type": "code",
   "execution_count": 5,
   "metadata": {},
   "outputs": [],
   "source": [
    "T = fem.Constant(domain, ScalarType((0, 0)))"
   ]
  },
  {
   "cell_type": "markdown",
   "metadata": {},
   "source": [
    "We also want to specify the integration measure $\\mathrm{d}s$, which should be the integral over the boundary of our domain. We do this by using `ufl`, and its built in integration measures"
   ]
  },
  {
   "cell_type": "code",
   "execution_count": 6,
   "metadata": {},
   "outputs": [],
   "source": [
    "ds = ufl.Measure(\"ds\", domain=domain)"
   ]
  },
  {
   "cell_type": "markdown",
   "metadata": {},
   "source": [
    "## Variational formulation\n",
    "We are now ready to create our variational formulation in close to mathematical syntax, as for the previous problems."
   ]
  },
  {
   "cell_type": "code",
   "execution_count": 7,
   "metadata": {},
   "outputs": [],
   "source": [
    "\n",
    "def sigma(u):\n",
    "    return lambda_ * ufl.nabla_div(u) * ufl.Identity(u.geometric_dimension()) + 2*mu*epsilon(u)\n",
    "\n",
    "def epsilon(u):\n",
    "    return ufl.sym(ufl.grad(u)) # Equivalent to 0.5*(ufl.nabla_grad(u) + ufl.nabla_grad(u).T)"
   ]
  },
  {
   "cell_type": "code",
   "execution_count": 8,
   "metadata": {},
   "outputs": [],
   "source": [
    "\n",
    "\n",
    "u = ufl.TrialFunction(V)  #u is the object of the argument class\n",
    "v = ufl.TestFunction(V)\n",
    "f = fem.Constant(domain, ScalarType((0, -rho*g)))\n",
    "L = ufl.dot(f, v) * ufl.dx + ufl.dot(T, v) * ds"
   ]
  },
  {
   "cell_type": "code",
   "execution_count": 9,
   "metadata": {},
   "outputs": [],
   "source": [
    "a = ufl.inner(sigma(u), epsilon(v)) * ufl.dx        ####################################"
   ]
  },
  {
   "cell_type": "markdown",
   "metadata": {},
   "source": [
    "```{note}\n",
    "Note that we used `nabla_grad` and optionally `nabla_div` for the variational formulation, as oposed to our previous usage of \n",
    "`div` and `grad`. This is because for scalar functions $\\nabla u$ has a clear meaning\n",
    "$\\nabla u = \\left(\\frac{\\partial u}{\\partial x}, \\frac{\\partial u}{\\partial y}, \\frac{\\partial u}{\\partial z} \\right)$.\n",
    "\n",
    "However, if $u$ is vector valued, the meaning is less clear. Some sources define $\\nabla u$ as a matrix with the elements $\\frac{\\partial u_j}{\\partial x_i}$, while other  sources prefer \n",
    "$\\frac{\\partial u_i}{\\partial x_j}$. In DOLFINx `grad(u)` is defined as the amtrix with element $\\frac{\\partial u_i}{\\partial x_j}$. However, as it is common in continuum mechanics to use the other definition, `ufl` supplies us with `nabla_grad` for this purpose.\n",
    "```\n",
    " \n",
    "## Solve the linear variational problem\n",
    "As in the previous demos, we assemble the matrix and right hand side vector and use PETSc to solve our variational problem"
   ]
  },
  {
   "cell_type": "code",
   "execution_count": null,
   "metadata": {},
   "outputs": [],
   "source": [
    "#def func():\n",
    "#    print(lambda_ * ufl.nabla_div(u) * ufl.Identity(u.geometric_dimension()) + 2*mu*epsilon(u))"
   ]
  },
  {
   "cell_type": "code",
   "execution_count": 10,
   "metadata": {},
   "outputs": [],
   "source": [
    "problem = fem.petsc.LinearProblem(a, L, bcs=[bc], petsc_options={\"ksp_type\": \"preonly\", \"pc_type\": \"lu\"})"
   ]
  },
  {
   "cell_type": "code",
   "execution_count": 14,
   "metadata": {},
   "outputs": [],
   "source": [
    "\n",
    "uh = problem.solve()"
   ]
  },
  {
   "cell_type": "markdown",
   "metadata": {},
   "source": [
    "## Visualization"
   ]
  },
  {
   "cell_type": "markdown",
   "metadata": {},
   "source": [
    "As in the previous demos, we can either use Pyvista or Paraview for visualization. We start by using Pyvista. Instead of adding scalar values to the grid, we add vectors."
   ]
  },
  {
   "cell_type": "code",
   "execution_count": 15,
   "metadata": {},
   "outputs": [
    {
     "name": "stdout",
     "output_type": "stream",
     "text": [
      "[-2.64024971e-14 -3.10399664e+00 -9.15398711e-02 -3.33403516e+00\n",
      " -1.83199211e-01 -3.56350697e+00  4.46650446e-01 -2.18766349e+00\n",
      "  3.60642782e-01 -2.41478945e+00  2.72263314e-01 -2.64379937e+00\n",
      "  1.82311355e-01 -2.87377597e+00  9.14056479e-02 -3.10401393e+00\n",
      " -2.58904911e-14 -3.33402620e+00 -9.15854892e-02 -3.56345750e+00\n",
      "  4.51733165e-01 -2.41518425e+00  3.63480364e-01 -2.64402888e+00\n",
      "  2.73652342e-01 -2.87389619e+00  1.82862709e-01 -3.10406333e+00\n",
      "  9.15398711e-02 -3.33403516e+00 -2.49709945e-14 -3.56343920e+00\n",
      "  4.55094141e-01 -2.64428421e+00  3.65216004e-01 -2.87404134e+00\n",
      "  2.74420720e-01 -3.10413703e+00  1.83116063e-01 -3.33406030e+00\n",
      "  9.15854892e-02 -3.56345750e+00  4.57077178e-01 -2.87418816e+00\n",
      "  3.66126545e-01 -3.10422044e+00  2.74759598e-01 -3.33409637e+00\n",
      "  1.83199211e-01 -3.56350697e+00  4.58027261e-01 -3.10428982e+00\n",
      "  3.66490714e-01 -3.33413390e+00  2.74862806e-01 -3.56357195e+00\n",
      "  4.58312535e-01 -3.33415674e+00  3.66583633e-01 -3.56362888e+00\n",
      "  4.58345194e-01 -3.56365193e+00]\n"
     ]
    }
   ],
   "source": [
    "print(uh.x.array[400:])\n",
    "#print(domain.x.shape)"
   ]
  },
  {
   "cell_type": "code",
   "execution_count": null,
   "metadata": {},
   "outputs": [],
   "source": [
    "print(uh._V.tabulate_dof_coordinates().shape)\n",
    "print(uh._V.dofmap.list)"
   ]
  },
  {
   "cell_type": "code",
   "execution_count": null,
   "metadata": {},
   "outputs": [],
   "source": [
    "from dolfinx import plot\n",
    "import pyvista\n",
    "pyvista.set_jupyter_backend(\"pythreejs\")\n",
    "\n",
    "topology, cell_types, geometry = plot.create_vtk_mesh(domain, domain.topology.dim)\n",
    "grid = pyvista.UnstructuredGrid(topology, cell_types, geometry)\n",
    "\n",
    "plotter = pyvista.Plotter()\n",
    "plotter.add_mesh(grid, show_edges=True)\n",
    "plotter.view_xy()\n",
    "if not pyvista.OFF_SCREEN:\n",
    "    plotter.show()\n",
    "else:\n",
    "    pyvista.start_xvfb()\n",
    "    figure = plotter.screenshot(\"fundamentals_mesh.png\")\n",
    "\n",
    "u_topology, u_cell_types, u_geometry = plot.create_vtk_mesh(V)\n",
    "u_grid = pyvista.UnstructuredGrid(u_topology, u_cell_types, u_geometry)\n",
    "u_grid.point_data[\"u\"] = uh.x.array.reshape((u_geometry.shape[0], 2))\n",
    "u_grid.set_active_scalars(\"u\")\n",
    "u_plotter = pyvista.Plotter()\n",
    "u_plotter.add_mesh(u_grid, show_edges=True)\n",
    "u_plotter.view_xy()\n",
    "if not pyvista.OFF_SCREEN:\n",
    "    u_plotter.show()"
   ]
  },
  {
   "cell_type": "code",
   "execution_count": null,
   "metadata": {},
   "outputs": [],
   "source": [
    "#alt\n",
    "\n",
    "import pyvista\n",
    "pyvista.set_jupyter_backend(\"pythreejs\")\n",
    "\n",
    "# Create plotter and pyvista grid\n",
    "p = pyvista.Plotter()\n",
    "topology, cell_types, geometry = plot.create_vtk_mesh(V)\n",
    "grid = pyvista.UnstructuredGrid(topology, cell_types, geometry)\n",
    "\n",
    "# Attach vector values to grid and warp grid by vector\n",
    "grid[\"u\"] = uh.x.array.reshape((geometry.shape[0], 3))\n",
    "actor_0 = p.add_mesh(grid, style=\"wireframe\", color=\"k\")\n",
    "warped = grid.warp_by_vector(\"u\", factor=1.5)\n",
    "actor_1 = p.add_mesh(warped, show_edges=True)\n",
    "p.show_axes()\n",
    "if not pyvista.OFF_SCREEN:\n",
    "   p.show()\n",
    "else:\n",
    "   pyvista.start_xvfb()\n",
    "   figure_as_array = p.screenshot(\"deflection.png\")"
   ]
  },
  {
   "cell_type": "markdown",
   "metadata": {},
   "source": [
    "We could also use Paraview for visualizing this.\n",
    "As explained in previous sections, we save the solution with `XDMFFile`.\n",
    "After opening the file `deformation.xdmf` in Paraview and pressing `Apply`, one can press the `Warp by vector button` ![Warp by vector](warp_by_vector.png) or go through the top menu (`Filters->Alphabetical->Warp by Vector`) and press `Apply`. We can also change the color of the deformed beam by changing the value in the color menu ![color](color.png) from `Solid Color` to `Deformation`."
   ]
  },
  {
   "cell_type": "code",
   "execution_count": null,
   "metadata": {},
   "outputs": [],
   "source": [
    "with io.XDMFFile(domain.comm, \"2DCantilever_ohne_Abweichung_von_E.xdmf\", \"w\") as xdmf:\n",
    "    xdmf.write_mesh(domain)\n",
    "    uh.name = \"Deformation\"\n",
    "    xdmf.write_function(uh)"
   ]
  },
  {
   "cell_type": "markdown",
   "metadata": {},
   "source": [
    "## Stress computation\n",
    "As soon as the displacement is computed, we can compute various stress measures. We will compute the von Mises stress defined as $\\sigma_m=\\sqrt{\\frac{3}{2}s:s}$ where $s$ is the deviatoric stress tensor $s(u)=\\sigma(u)-\\frac{1}{3}\\mathrm{tr}(\\sigma(u))I$."
   ]
  },
  {
   "cell_type": "code",
   "execution_count": null,
   "metadata": {},
   "outputs": [],
   "source": [
    "s = sigma(uh) -1./3*ufl.tr(sigma(uh))*ufl.Identity(uh.geometric_dimension())\n",
    "von_Mises = ufl.sqrt(3./2*ufl.inner(s, s))"
   ]
  },
  {
   "cell_type": "markdown",
   "metadata": {},
   "source": [
    "The `von_Mises` variable is now an expression that must be projected into an appropriate function space so that we can visualize it. As `uh` is a linear combination of first order piecewise continuous functions, the von Mises stresses will be a cell-wise constant function."
   ]
  },
  {
   "cell_type": "code",
   "execution_count": null,
   "metadata": {},
   "outputs": [],
   "source": [
    "V_von_mises = fem.FunctionSpace(domain, (\"DG\", 0))\n",
    "stress_expr = fem.Expression(von_Mises, V_von_mises.element.interpolation_points)\n",
    "stresses = fem.Function(V_von_mises)\n",
    "stresses.interpolate(stress_expr)"
   ]
  },
  {
   "cell_type": "markdown",
   "metadata": {},
   "source": [
    "In the previous sections, we have only visualized first order Lagrangian functions. However, the Von Mises stresses are piecewise constant on each cell. Therefore, we modify our plotting routine slightly. The first thing we notice is that we  now set values for each cell, which has a one to one correspondence with the degrees of freedom in the function space."
   ]
  },
  {
   "cell_type": "code",
   "execution_count": null,
   "metadata": {},
   "outputs": [],
   "source": [
    "#warped.cell_data[\"VonMises\"] = stresses.vector.array\n",
    "#warped.set_active_scalars(\"VonMises\")\n",
    "\n",
    "\n",
    "\"\"\" u_topology, u_cell_types, u_geometry = plot.create_vtk_mesh(V)\n",
    "u_grid = pyvista.UnstructuredGrid(u_topology, u_cell_types, u_geometry)\n",
    "u_grid.point_data[\"u\"] = uh.x.array.reshape((u_geometry.shape[0], 2))\n",
    "u_grid.set_active_scalars(\"u\")\n",
    "u_plotter = pyvista.Plotter()\n",
    "u_plotter.add_mesh(u_grid, show_edges=True)\n",
    "u_plotter.view_xy()\n",
    "\n",
    "\n",
    "# Attach vector values to grid and warp grid by vector\n",
    "grid[\"u\"] = uh.x.array.reshape((geometry.shape[0], 3))\n",
    "actor_0 = p.add_mesh(grid, style=\"wireframe\", color=\"k\")\n",
    "warped = grid.warp_by_vector(\"u\", factor=1.5)\n",
    "actor_1 = p.add_mesh(warped, show_edges=True)\n",
    "p.show_axes() \"\"\"\n",
    "\n",
    "u_grid.cell_data[\"VonMises\"] = stresses.vector.array #uh.x.array.reshape((u_geometry.shape[0], 2))\n",
    "u_grid.set_active_scalars(\"VonMises\")\n",
    "p = pyvista.Plotter()\n",
    "p.add_mesh(u_grid)\n",
    "p.show_axes()\n",
    "if not pyvista.OFF_SCREEN:\n",
    "   p.show()\n",
    "else:\n",
    "   pyvista.start_xvfb()\n",
    "   stress_figure = p.screenshot(f\"stresses.png\")"
   ]
  },
  {
   "cell_type": "code",
   "execution_count": null,
   "metadata": {},
   "outputs": [],
   "source": []
  },
  {
   "cell_type": "code",
   "execution_count": null,
   "metadata": {},
   "outputs": [],
   "source": [
    "a_true = 2.5\n",
    "b_true = 1.7\n",
    "\n",
    "n_tests = 50\n",
    "seed = 1\n",
    "mean_noise = 0.0\n",
    "std_noise = 0.5\n",
    "\n",
    "# generate the data\n",
    "np.random.seed(seed)\n",
    "x_test = np.linspace(0.0, 1.0, n_tests)\n",
    "y_true = a_true * x_test + b_true\n",
    "y_test = y_true + np.random.normal(loc=mean_noise, scale=std_noise, size=n_tests)"
   ]
  },
  {
   "cell_type": "code",
   "execution_count": null,
   "metadata": {},
   "outputs": [],
   "source": [
    "import matplotlib.pyplot as plt\n",
    "plt.plot(x_test, y_test, \"o\", label=\"generated data points\")\n",
    "plt.plot(x_test, y_true, label=\"ground-truth model\")\n",
    "plt.title(\"Data vs. ground truth\")\n",
    "plt.xlabel(\"x\")\n",
    "plt.ylabel(\"y\")\n",
    "plt.legend()\n",
    "plt.show()"
   ]
  },
  {
   "cell_type": "code",
   "execution_count": null,
   "metadata": {},
   "outputs": [],
   "source": [
    "#a = np.array([4,3,2.5,2,1])\n",
    "#b = np.array([3,2.5,1.7,1.3,1])\n",
    "a = np.linspace(2.6,3.5,50)\n",
    "b = np.linspace(1,2,50)\n",
    "print(a,b)\n",
    "cost_func = np.zeros((50,))\n",
    "for i in range(50):\n",
    "    result = a[i]*x_test + b[i]\n",
    "    cost_func[i]=np.dot(result-y_test,result-y_test)\n",
    "\n",
    "#print(cost_func)\n",
    "plt.plot(a, cost_func,label=\"w.r.t. a\")\n",
    "plt.plot(b, cost_func, label=\"w.r.t. b\")\n",
    "plt.title(\"Cost_func Vs. parameters\")\n",
    "plt.xlabel(\"Parameters\")\n",
    "plt.ylabel(\"Cost function\")\n",
    "plt.legend()\n",
    "plt.show()\n"
   ]
  },
  {
   "cell_type": "code",
   "execution_count": null,
   "metadata": {},
   "outputs": [],
   "source": [
    "delta_y = y_test-y_true\n",
    "#cost_value = np.dot(delta_y)\n",
    "plt.plot(x_test, delta_y, label=\"ground-truth model\")\n",
    "plt.title(\"Data vs. ground truth\")\n",
    "plt.xlabel(\"x\")\n",
    "plt.ylabel(\"y\")\n",
    "plt.legend()\n",
    "plt.show()"
   ]
  }
 ],
 "metadata": {
  "jupytext": {
   "formats": "ipynb,py:light"
  },
  "kernelspec": {
   "display_name": "Python 3.10.6 ('fenicsx_0_5')",
   "language": "python",
   "name": "python3"
  },
  "language_info": {
   "codemirror_mode": {
    "name": "ipython",
    "version": 3
   },
   "file_extension": ".py",
   "mimetype": "text/x-python",
   "name": "python",
   "nbconvert_exporter": "python",
   "pygments_lexer": "ipython3",
   "version": "3.10.6"
  },
  "vscode": {
   "interpreter": {
    "hash": "acdbedbb2a82bcc8356a4f2c84a0e087ddc41289dd909238106f5455b34094f0"
   }
  }
 },
 "nbformat": 4,
 "nbformat_minor": 4
}
